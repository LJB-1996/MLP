{
 "cells": [
  {
   "cell_type": "markdown",
   "id": "492f1a91-dcbf-440e-9e80-163bc17193ca",
   "metadata": {},
   "source": [
    "# Libraries"
   ]
  },
  {
   "cell_type": "code",
   "execution_count": 4,
   "id": "053d7b38-6d0a-435d-b51c-f8b34bead757",
   "metadata": {},
   "outputs": [],
   "source": [
    "import torch\n",
    "import torch.nn as nn\n",
    "import torchvision\n",
    "import torchvision.transforms as transforms\n",
    "\n",
    "import numpy as np\n",
    "import matplotlib.pyplot as plt\n",
    "from tqdm.notebook import tqdm\n",
    "from sklearn.metrics import classification_report, confusion_matrix"
   ]
  },
  {
   "cell_type": "markdown",
   "id": "6e230086-df8c-4cf8-8f44-0331b98aeaab",
   "metadata": {},
   "source": [
    "# Setting up device"
   ]
  },
  {
   "cell_type": "code",
   "execution_count": 9,
   "id": "215a7c46-6255-4ba2-914b-206dc7a22f16",
   "metadata": {},
   "outputs": [],
   "source": [
    "torch.manual_seed(0)\n",
    "device = torch.device(\"cuda\" if torch.cuda.is_available() else \"cpu\")"
   ]
  },
  {
   "cell_type": "markdown",
   "id": "a572aa5a-679c-4239-b2f6-994119a43c48",
   "metadata": {},
   "source": [
    "# Downloading Train and Test MNIST set"
   ]
  },
  {
   "cell_type": "code",
   "execution_count": 10,
   "id": "1a8254cc-6d9e-4092-8e84-8ab20f48f9f6",
   "metadata": {},
   "outputs": [],
   "source": [
    "train_ds = torchvision.datasets.MNIST(root=\"./data\",train=True,transform=transforms.ToTensor(),download=True)\n",
    "test_ds = torchvision.datasets.MNIST(root=\"./data\",train=False,transform=transforms.ToTensor())"
   ]
  },
  {
   "cell_type": "markdown",
   "id": "99ea4c3f-e31a-453a-b255-80799e49cb2e",
   "metadata": {},
   "source": [
    "# Data Loader"
   ]
  },
  {
   "cell_type": "code",
   "execution_count": 11,
   "id": "8fc09d7f-8d34-48ca-b642-1adc2cafab63",
   "metadata": {},
   "outputs": [],
   "source": [
    "train_dl = torch.utils.data.DataLoader(dataset=train_ds, batch_size = 100, shuffle=True)\n",
    "test_dl = torch.utils.data.DataLoader(dataset=test_ds, batch_size = 100, shuffle=False)"
   ]
  },
  {
   "cell_type": "markdown",
   "id": "c71f5cf0-8662-41fa-ab9a-b1ff41fa452b",
   "metadata": {},
   "source": [
    "# MLP model class"
   ]
  },
  {
   "cell_type": "code",
   "execution_count": 13,
   "id": "71a71a8e-062f-4c07-8b7e-6b647400f2db",
   "metadata": {},
   "outputs": [],
   "source": [
    "class Net(nn.Module):\n",
    "    def __init__(self):\n",
    "        super(Net, self).__init__()\n",
    "        self.fc1 = nn.Linear(28*28, 200)\n",
    "        self.fc2 = nn.Linear(200, 50)\n",
    "        self.fc3 = nn.Linear(50, 10)\n",
    "\n",
    "    def forward(self, x):\n",
    "        x = torch.relu(self.fc1(x))\n",
    "        x = torch.relu(self.fc2(x))\n",
    "        x = self.fc3(x)\n",
    "        return x"
   ]
  },
  {
   "cell_type": "markdown",
   "id": "08336823-df89-4758-b7c9-94e502ee47cc",
   "metadata": {},
   "source": [
    "# Assigning model to class"
   ]
  },
  {
   "cell_type": "code",
   "execution_count": 15,
   "id": "dc2018c6-c753-482f-985b-d518e1c05788",
   "metadata": {},
   "outputs": [],
   "source": [
    "model = Net().to(device)"
   ]
  },
  {
   "cell_type": "markdown",
   "id": "6aa0e31c-b90e-43ce-952c-e97eb1ba0731",
   "metadata": {},
   "source": [
    "# Criterion (Loss) and Optimizer  "
   ]
  },
  {
   "cell_type": "code",
   "execution_count": 16,
   "id": "a9b2e58e-6ff3-4c51-b609-c4daf80fd629",
   "metadata": {},
   "outputs": [],
   "source": [
    "criterion = nn.CrossEntropyLoss()\n",
    "optim = torch.optim.Adam(model.parameters(), lr=0.001)"
   ]
  },
  {
   "cell_type": "markdown",
   "id": "fd03f891-fafe-452a-b8a4-1c75344f691e",
   "metadata": {},
   "source": [
    "# Training"
   ]
  },
  {
   "cell_type": "code",
   "execution_count": 17,
   "id": "affd5752-026f-4e89-91ff-e41dd3b3cc85",
   "metadata": {},
   "outputs": [
    {
     "data": {
      "application/vnd.jupyter.widget-view+json": {
       "model_id": "6f6eceb9c7e8495f81046c32e9b07b15",
       "version_major": 2,
       "version_minor": 0
      },
      "text/plain": [
       "  0%|          | 0/3 [00:00<?, ?it/s]"
      ]
     },
     "metadata": {},
     "output_type": "display_data"
    },
    {
     "name": "stderr",
     "output_type": "stream",
     "text": [
      "/opt/homebrew/lib/python3.11/site-packages/numpy/core/fromnumeric.py:3504: RuntimeWarning: Mean of empty slice.\n",
      "  return _methods._mean(a, axis=axis, dtype=dtype,\n",
      "/opt/homebrew/lib/python3.11/site-packages/numpy/core/_methods.py:129: RuntimeWarning: invalid value encountered in scalar divide\n",
      "  ret = ret.dtype.type(ret / rcount)\n"
     ]
    }
   ],
   "source": [
    "num_epochs = 3\n",
    "\n",
    "epochs = tqdm(range(num_epochs))\n",
    "\n",
    "for epoch in epochs:\n",
    "    train_loss = []\n",
    "    model.train()\n",
    "    for batch in (train_dl):\n",
    "        optim.zero_grad()\n",
    "        images = batch[0].reshape(-1, 28*28).to(device)\n",
    "        label = batch[1].to(device)\n",
    "        # Forward pass\n",
    "        output = model(images)\n",
    "        loss = torch.nn.CrossEntropyLoss()(output.squeeze(-1),label)\n",
    "        # Backward-pass and optimize\n",
    "        loss.backward()\n",
    "        optim.step()\n",
    "\n",
    "    loss_now = np.mean(train_loss)\n",
    "    epochs.set_postfix({\"loss\":loss_now})"
   ]
  },
  {
   "cell_type": "markdown",
   "id": "1f936db4-2050-447a-a624-57f055da3d03",
   "metadata": {},
   "source": [
    "# Test"
   ]
  },
  {
   "cell_type": "code",
   "execution_count": 19,
   "id": "46a55407-d8a8-4791-b4c0-ec2e2aa1b278",
   "metadata": {},
   "outputs": [
    {
     "name": "stdout",
     "output_type": "stream",
     "text": [
      "[[ 968    0    0    2    1    1    5    1    1    1]\n",
      " [   0 1122    4    0    0    1    5    0    3    0]\n",
      " [   4    1 1007    0    3    1    1    6    8    1]\n",
      " [   0    0    8  954    0   24    0    6    6   12]\n",
      " [   0    0    5    0  955    0    6    1    2   13]\n",
      " [   2    1    0    3    2  868    8    0    5    3]\n",
      " [   7    2    0    0    4    7  935    0    3    0]\n",
      " [   1    6   17    1    0    1    0  984    4   14]\n",
      " [   5    0    4    4    3    3    9    3  938    5]\n",
      " [   5    4    0    4   13    1    0    2    2  978]]\n",
      "[98.7755102  98.85462555 97.57751938 94.45544554 97.25050916 97.30941704\n",
      " 97.59916493 95.71984436 96.30390144 96.92765114]\n",
      "              precision    recall  f1-score   support\n",
      "\n",
      "           0      0.976     0.988     0.982       980\n",
      "           1      0.988     0.989     0.988      1135\n",
      "           2      0.964     0.976     0.970      1032\n",
      "           3      0.986     0.945     0.965      1010\n",
      "           4      0.973     0.973     0.973       982\n",
      "           5      0.957     0.973     0.965       892\n",
      "           6      0.965     0.976     0.970       958\n",
      "           7      0.981     0.957     0.969      1028\n",
      "           8      0.965     0.963     0.964       974\n",
      "           9      0.952     0.969     0.961      1009\n",
      "\n",
      "    accuracy                          0.971     10000\n",
      "   macro avg      0.971     0.971     0.971     10000\n",
      "weighted avg      0.971     0.971     0.971     10000\n",
      "\n"
     ]
    }
   ],
   "source": [
    "predlist = torch.zeros(0,dtype=torch.long,device=\"cpu\")\n",
    "lbllist = torch.zeros(0,dtype=torch.long, device=\"cpu\")\n",
    "\n",
    "with torch.no_grad():\n",
    "    for ims, labels in test_dl:\n",
    "        ims = ims.reshape(-1, 28*28).to(device)\n",
    "        labels = labels.to(device)\n",
    "        outputs = model(ims)\n",
    "        _, predicted = torch.max(outputs.data, 1)\n",
    "        # Append batch prediction results\n",
    "        predlist = torch.cat([predlist,predicted.view(-1).cpu()])\n",
    "        lbllist = torch.cat([lbllist,labels.view(-1).cpu()])\n",
    "\n",
    "# Confusion Matrix\n",
    "conf_mat = confusion_matrix(np.asarray(lbllist), np.asarray(predlist))\n",
    "print(conf_mat)\n",
    "\n",
    "# Per-class accuracy\n",
    "\n",
    "class_accuracy = 100 * conf_mat.diagonal()/conf_mat.sum(1)\n",
    "print(class_accuracy)\n",
    "\n",
    "# Report\n",
    "\n",
    "print(classification_report(np.asarray(lbllist), np.asarray(predlist), digits=3))"
   ]
  },
  {
   "cell_type": "code",
   "execution_count": null,
   "id": "8b82f2e3-4a07-459d-a137-f28db1e89821",
   "metadata": {},
   "outputs": [],
   "source": []
  }
 ],
 "metadata": {
  "kernelspec": {
   "display_name": "Python 3 (ipykernel)",
   "language": "python",
   "name": "python3"
  },
  "language_info": {
   "codemirror_mode": {
    "name": "ipython",
    "version": 3
   },
   "file_extension": ".py",
   "mimetype": "text/x-python",
   "name": "python",
   "nbconvert_exporter": "python",
   "pygments_lexer": "ipython3",
   "version": "3.11.7"
  }
 },
 "nbformat": 4,
 "nbformat_minor": 5
}
